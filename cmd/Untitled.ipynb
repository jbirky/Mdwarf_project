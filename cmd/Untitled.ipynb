{
 "cells": [
  {
   "cell_type": "code",
   "execution_count": 1,
   "metadata": {},
   "outputs": [
    {
     "name": "stderr",
     "output_type": "stream",
     "text": [
      "/home/jess/anaconda3/lib/python3.6/site-packages/h5py/__init__.py:36: FutureWarning: Conversion of the second argument of issubdtype from `float` to `np.floating` is deprecated. In future, it will be treated as `np.float64 == np.dtype(float).type`.\n",
      "  from ._conv import register_converters as _register_converters\n"
     ]
    }
   ],
   "source": [
    "%matplotlib inline\n",
    "import numpy as np\n",
    "import pandas as pd\n",
    "import matplotlib.pyplot as plt\n",
    "import matplotlib.patches as patches\n",
    "from matplotlib.ticker import AutoMinorLocator\n",
    "from matplotlib import rc\n",
    "plt.style.use('classic')\n",
    "rc('font', family='serif')\n",
    "rc('figure', facecolor='w')\n",
    "from astropy.io import fits, ascii\n",
    "from astropy.table import Table\n",
    "from collections import OrderedDict\n",
    "from scipy.interpolate import UnivariateSpline\n",
    "import os\n",
    "import math\n",
    "\n",
    "import apogee_tools as ap\n",
    "AP_PATH = os.environ['APOGEE_DATA']"
   ]
  },
  {
   "cell_type": "code",
   "execution_count": 3,
   "metadata": {},
   "outputs": [],
   "source": [
    "allstar = fits.open(AP_PATH + '/allStar-l31c.2.fits')\n",
    "xmatch = fits.open(AP_PATH + '/allStar_l31c2_x_GaiaDR2.fits')\n",
    "fmatch = fits.open(AP_PATH + '/apogee_x_gaiadr2_full_info.fits')"
   ]
  },
  {
   "cell_type": "code",
   "execution_count": 4,
   "metadata": {},
   "outputs": [
    {
     "name": "stderr",
     "output_type": "stream",
     "text": [
      "/home/jess/anaconda3/lib/python3.6/site-packages/ipykernel_launcher.py:24: RuntimeWarning: invalid value encountered in log10\n",
      "/home/jess/anaconda3/lib/python3.6/site-packages/ipykernel_launcher.py:25: RuntimeWarning: invalid value encountered in log10\n",
      "/home/jess/anaconda3/lib/python3.6/site-packages/ipykernel_launcher.py:26: RuntimeWarning: invalid value encountered in log10\n"
     ]
    }
   ],
   "source": [
    "head = fmatch[1].header\n",
    "data = fmatch[1].data\n",
    "\n",
    "ids = data['APOGEE_ID_1']\n",
    "\n",
    "fparam = data['FPARAM']\n",
    "fteff = fparam.T[0]\n",
    "ffe_h = fparam.T[2]\n",
    "\n",
    "dist = np.array(1/data['parallax'])*1000\n",
    "\n",
    "j_mag = np.array(data['J'])\n",
    "h_mag = np.array(data['H'])\n",
    "k_mag = np.array(data['K'])\n",
    "\n",
    "ind = np.where((j_mag > -100) & (h_mag > -100) & (k_mag > -100))[0]\n",
    "\n",
    "j_mag = j_mag[ind]\n",
    "h_mag = h_mag[ind]\n",
    "k_mag = k_mag[ind]\n",
    "dist = dist[ind]\n",
    "fteff = fteff[ind]\n",
    "\n",
    "j_abs = j_mag - 5*np.log10(dist/10)\n",
    "h_abs = h_mag - 5*np.log10(dist/10)\n",
    "k_abs = k_mag - 5*np.log10(dist/10)"
   ]
  },
  {
   "cell_type": "code",
   "execution_count": 6,
   "metadata": {},
   "outputs": [
    {
     "data": {
      "text/plain": [
       "chararray(['2M00000002+7417074', '2M00000019-1924498',\n",
       "           '2M00000032+5737103', ..., '2M23553530+5731363',\n",
       "           '2M23553539+6623467', '2M23553540+7459514'], dtype='<U18')"
      ]
     },
     "execution_count": 6,
     "metadata": {},
     "output_type": "execute_result"
    }
   ],
   "source": []
  },
  {
   "cell_type": "code",
   "execution_count": null,
   "metadata": {},
   "outputs": [],
   "source": []
  }
 ],
 "metadata": {
  "kernelspec": {
   "display_name": "Python 3",
   "language": "python",
   "name": "python3"
  },
  "language_info": {
   "codemirror_mode": {
    "name": "ipython",
    "version": 3
   },
   "file_extension": ".py",
   "mimetype": "text/x-python",
   "name": "python",
   "nbconvert_exporter": "python",
   "pygments_lexer": "ipython3",
   "version": "3.6.3"
  }
 },
 "nbformat": 4,
 "nbformat_minor": 2
}
