{
 "cells": [
  {
   "cell_type": "code",
   "execution_count": 1,
   "metadata": {},
   "outputs": [
    {
     "name": "stderr",
     "output_type": "stream",
     "text": [
      "/home/jess/anaconda3/lib/python3.6/site-packages/h5py/__init__.py:34: FutureWarning: Conversion of the second argument of issubdtype from `float` to `np.floating` is deprecated. In future, it will be treated as `np.float64 == np.dtype(float).type`.\n",
      "  from ._conv import register_converters as _register_converters\n"
     ]
    }
   ],
   "source": [
    "%matplotlib inline\n",
    "import numpy as np\n",
    "import pandas as pd\n",
    "import matplotlib.pyplot as plt\n",
    "from matplotlib.ticker import AutoMinorLocator\n",
    "from matplotlib import rc\n",
    "plt.style.use('classic')\n",
    "rc('font', family='serif')\n",
    "rc('figure', facecolor='w')\n",
    "from astropy.io import fits, ascii\n",
    "from astropy.table import Table\n",
    "from collections import OrderedDict\n",
    "from scipy.interpolate import UnivariateSpline\n",
    "import os\n",
    "import math\n",
    "\n",
    "import TheCannon\n",
    "from TheCannon import apogee, dataset, model\n",
    "import apogee_tools as ap\n",
    "AP_PATH = os.environ['APOGEE_DATA']\n",
    "\n",
    "line_list = ap.lines\n",
    "line_names = line_list.keys()"
   ]
  },
  {
   "cell_type": "code",
   "execution_count": 11,
   "metadata": {},
   "outputs": [
    {
     "name": "stdout",
     "output_type": "stream",
     "text": [
      "This is the right version\n",
      "Loading spectra from directory /home/jess/Desktop/Research/apogee_data/training_sets/mann_bonus2/\n",
      "Spectra loaded\n"
     ]
    }
   ],
   "source": [
    "dfile = AP_PATH + '/training_sets/mann_bonus2/'\n",
    "rfile = 'xmatch/match/apogee_x_mann.csv'\n",
    "\n",
    "ids, wl, tr_flux, tr_ivar = apogee.load_spectra(dfile)\n",
    "tr_ID = np.array([x.split('2-')[1].split('.fits')[0] for x in ids])\n",
    "# tr_label = ap.loadLabels(rfile, lbl_names=['Teff', 'FeH'])\n",
    "# tr_label = ap.scaleLabels(ap.loadLabels(rfile, lbl_names=['TEFF', 'FE_H']))\n",
    "fopen = pd.read_csv(rfile)\n",
    "tr_label = np.array([fopen['Teff'], fopen['FeH']]).T\n",
    "\n",
    "wave = ap.rvShift(wl, rv=-80)\n",
    "ds = dataset.Dataset(wave, tr_ID, tr_flux, tr_ivar, tr_label, tr_ID, tr_flux, tr_ivar)\n",
    "ds.set_label_names(['T_{eff}', '[Fe/H]'])\n",
    "ds.tr_label.shape, ds.tr_ID.shape, ds.tr_flux.shape, ds.tr_ivar.shape\n",
    "\n",
    "bands = [[15140,15800],[15860,16425],[16475,16945]]\n",
    "pbands = [np.where((ds.wl > bands[0][0]) & (ds.wl < bands[0][1]))[0], \\\n",
    "    np.where((ds.wl > bands[1][0]) & (ds.wl < bands[1][1]))[0], \\\n",
    "    np.where((ds.wl > bands[2][0]) & (ds.wl < bands[2][1]))[0]]"
   ]
  },
  {
   "cell_type": "code",
   "execution_count": null,
   "metadata": {
    "collapsed": true
   },
   "outputs": [],
   "source": [
    "md, ds, synth = ap.fitCannonModel(ds)\n",
    "np.save('bonus_cross_validation_97/model_coeff_fullset', md.coeffs)"
   ]
  }
 ],
 "metadata": {
  "kernelspec": {
   "display_name": "Python 3",
   "language": "python",
   "name": "python3"
  },
  "language_info": {
   "codemirror_mode": {
    "name": "ipython",
    "version": 3
   },
   "file_extension": ".py",
   "mimetype": "text/x-python",
   "name": "python",
   "nbconvert_exporter": "python",
   "pygments_lexer": "ipython3",
   "version": "3.6.3"
  }
 },
 "nbformat": 4,
 "nbformat_minor": 2
}
