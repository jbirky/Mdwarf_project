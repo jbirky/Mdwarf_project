{
 "cells": [
  {
   "cell_type": "code",
   "execution_count": 1,
   "metadata": {},
   "outputs": [],
   "source": [
    "%matplotlib inline\n",
    "import numpy as np\n",
    "import pandas as pd\n",
    "import matplotlib.pyplot as plt\n",
    "from matplotlib import rc\n",
    "rc('font', family='serif')\n",
    "from astropy.io import fits, ascii\n",
    "from astropy.table import Table\n",
    "import os\n",
    "import math\n",
    "\n",
    "import TheCannon\n",
    "import apogee_tools as ap\n",
    "AP_PATH = os.environ['APOGEE_DATA']"
   ]
  },
  {
   "cell_type": "code",
   "execution_count": 19,
   "metadata": {},
   "outputs": [
    {
     "name": "stdout",
     "output_type": "stream",
     "text": [
      "2543\n"
     ]
    }
   ],
   "source": [
    "test_sources = pd.read_csv('test_ref/aganze_test_sample.csv')\n",
    "test_ID = test_sources['APOGEE_ID']\n",
    "print(len(test_sources))"
   ]
  },
  {
   "cell_type": "code",
   "execution_count": 4,
   "metadata": {
    "scrolled": true
   },
   "outputs": [],
   "source": [
    "# for source in list(test_ID):\n",
    "#     ap.download(source, type='aspcap')"
   ]
  },
  {
   "cell_type": "code",
   "execution_count": 44,
   "metadata": {},
   "outputs": [
    {
     "name": "stdout",
     "output_type": "stream",
     "text": [
      "17\n",
      "['2M11053133+4331170', '2M03284842+5052515', '2M15045746+3715425', '2M12213159+1421358', '2M16244387+2254209', '2M07341671+3952557', '2M03432944+3152194', '2M09324827+2659443', '2M19234945+4921587', '2M21360137-0034535', '2M13331747+3833314', '2M13141940+1256164', '2M15034161+3152125', '2M14272283+3921185', '2M10481258-1120082', '2M21370512-0006513', '2M14244729+3906295']\n"
     ]
    }
   ],
   "source": [
    "dl = os.listdir(AP_PATH + '/aganze_xmatch')\n",
    "dl = [s.split('2-')[1].split('.fits')[0] for s in dl]\n",
    "miss = list(set(test_ID) - set(dl))\n",
    "print(len(miss))\n",
    "print(miss)"
   ]
  },
  {
   "cell_type": "code",
   "execution_count": 48,
   "metadata": {},
   "outputs": [],
   "source": [
    "for i in range(len(miss)):\n",
    "    test_sources = test_sources[test_sources.APOGEE_ID != miss[i]]\n",
    "test_sources.to_csv('test_ref/aganze_ref.csv')"
   ]
  },
  {
   "cell_type": "code",
   "execution_count": 2,
   "metadata": {},
   "outputs": [
    {
     "name": "stdout",
     "output_type": "stream",
     "text": [
      "This is the right version\n",
      "Loading spectra from directory /home/jess/Desktop/Research/apogee_data/training_sets/west_sample_cut/\n",
      "Spectra loaded\n",
      "Loading dataset\n",
      "This may take a while...\n",
      "Continuum normalizing the tr set using running quantile...\n",
      "##########################################################\n",
      "@Bo Zhang: you will use only 1 process ...\n",
      "           i.e., the original TheCannon version\n",
      "##########################################################\n",
      "contnorm.py: continuum norm using running quantile\n",
      "Taking spectra in 3 chunks\n",
      "cont_norm_q(): working on star [1/37]...\n",
      "cont_norm_q(): working on star [2/37]...\n",
      "cont_norm_q(): working on star [3/37]...\n",
      "cont_norm_q(): working on star [4/37]...\n",
      "cont_norm_q(): working on star [5/37]...\n",
      "cont_norm_q(): working on star [6/37]...\n",
      "cont_norm_q(): working on star [7/37]...\n",
      "cont_norm_q(): working on star [8/37]...\n",
      "cont_norm_q(): working on star [9/37]...\n",
      "cont_norm_q(): working on star [10/37]...\n",
      "cont_norm_q(): working on star [11/37]...\n",
      "cont_norm_q(): working on star [12/37]...\n",
      "cont_norm_q(): working on star [13/37]...\n",
      "cont_norm_q(): working on star [14/37]...\n",
      "cont_norm_q(): working on star [15/37]...\n",
      "cont_norm_q(): working on star [16/37]...\n",
      "cont_norm_q(): working on star [17/37]...\n",
      "cont_norm_q(): working on star [18/37]...\n",
      "cont_norm_q(): working on star [19/37]...\n",
      "cont_norm_q(): working on star [20/37]...\n",
      "cont_norm_q(): working on star [21/37]...\n",
      "cont_norm_q(): working on star [22/37]...\n",
      "cont_norm_q(): working on star [23/37]...\n",
      "cont_norm_q(): working on star [24/37]...\n",
      "cont_norm_q(): working on star [25/37]...\n",
      "cont_norm_q(): working on star [26/37]...\n",
      "cont_norm_q(): working on star [27/37]...\n",
      "cont_norm_q(): working on star [28/37]...\n",
      "cont_norm_q(): working on star [29/37]...\n",
      "cont_norm_q(): working on star [30/37]...\n",
      "cont_norm_q(): working on star [31/37]...\n",
      "cont_norm_q(): working on star [32/37]...\n",
      "cont_norm_q(): working on star [33/37]...\n",
      "cont_norm_q(): working on star [34/37]...\n",
      "cont_norm_q(): working on star [35/37]...\n",
      "cont_norm_q(): working on star [36/37]...\n",
      "cont_norm_q(): working on star [37/37]...\n",
      "cont_norm_q(): working on star [1/37]...\n",
      "cont_norm_q(): working on star [2/37]...\n",
      "cont_norm_q(): working on star [3/37]...\n",
      "cont_norm_q(): working on star [4/37]...\n",
      "cont_norm_q(): working on star [5/37]...\n",
      "cont_norm_q(): working on star [6/37]...\n",
      "cont_norm_q(): working on star [7/37]...\n",
      "cont_norm_q(): working on star [8/37]...\n",
      "cont_norm_q(): working on star [9/37]...\n",
      "cont_norm_q(): working on star [10/37]...\n",
      "cont_norm_q(): working on star [11/37]...\n",
      "cont_norm_q(): working on star [12/37]...\n",
      "cont_norm_q(): working on star [13/37]...\n",
      "cont_norm_q(): working on star [14/37]...\n",
      "cont_norm_q(): working on star [15/37]...\n",
      "cont_norm_q(): working on star [16/37]...\n",
      "cont_norm_q(): working on star [17/37]...\n",
      "cont_norm_q(): working on star [18/37]...\n",
      "cont_norm_q(): working on star [19/37]...\n",
      "cont_norm_q(): working on star [20/37]...\n",
      "cont_norm_q(): working on star [21/37]...\n",
      "cont_norm_q(): working on star [22/37]...\n",
      "cont_norm_q(): working on star [23/37]...\n",
      "cont_norm_q(): working on star [24/37]...\n",
      "cont_norm_q(): working on star [25/37]...\n",
      "cont_norm_q(): working on star [26/37]...\n",
      "cont_norm_q(): working on star [27/37]...\n",
      "cont_norm_q(): working on star [28/37]...\n",
      "cont_norm_q(): working on star [29/37]...\n",
      "cont_norm_q(): working on star [30/37]...\n",
      "cont_norm_q(): working on star [31/37]...\n",
      "cont_norm_q(): working on star [32/37]...\n",
      "cont_norm_q(): working on star [33/37]...\n",
      "cont_norm_q(): working on star [34/37]...\n",
      "cont_norm_q(): working on star [35/37]...\n",
      "cont_norm_q(): working on star [36/37]...\n",
      "cont_norm_q(): working on star [37/37]...\n",
      "cont_norm_q(): working on star [1/37]...\n",
      "cont_norm_q(): working on star [2/37]...\n",
      "cont_norm_q(): working on star [3/37]...\n",
      "cont_norm_q(): working on star [4/37]...\n",
      "cont_norm_q(): working on star [5/37]...\n",
      "cont_norm_q(): working on star [6/37]...\n",
      "cont_norm_q(): working on star [7/37]...\n",
      "cont_norm_q(): working on star [8/37]...\n",
      "cont_norm_q(): working on star [9/37]...\n",
      "cont_norm_q(): working on star [10/37]...\n",
      "cont_norm_q(): working on star [11/37]...\n",
      "cont_norm_q(): working on star [12/37]...\n",
      "cont_norm_q(): working on star [13/37]...\n",
      "cont_norm_q(): working on star [14/37]...\n",
      "cont_norm_q(): working on star [15/37]...\n",
      "cont_norm_q(): working on star [16/37]...\n",
      "cont_norm_q(): working on star [17/37]...\n",
      "cont_norm_q(): working on star [18/37]...\n",
      "cont_norm_q(): working on star [19/37]...\n",
      "cont_norm_q(): working on star [20/37]...\n",
      "cont_norm_q(): working on star [21/37]...\n",
      "cont_norm_q(): working on star [22/37]...\n",
      "cont_norm_q(): working on star [23/37]...\n",
      "cont_norm_q(): working on star [24/37]...\n",
      "cont_norm_q(): working on star [25/37]...\n",
      "cont_norm_q(): working on star [26/37]...\n",
      "cont_norm_q(): working on star [27/37]...\n",
      "cont_norm_q(): working on star [28/37]...\n",
      "cont_norm_q(): working on star [29/37]...\n",
      "cont_norm_q(): working on star [30/37]...\n",
      "cont_norm_q(): working on star [31/37]...\n",
      "cont_norm_q(): working on star [32/37]...\n",
      "cont_norm_q(): working on star [33/37]...\n",
      "cont_norm_q(): working on star [34/37]...\n",
      "cont_norm_q(): working on star [35/37]...\n",
      "cont_norm_q(): working on star [36/37]...\n",
      "cont_norm_q(): working on star [37/37]...\n",
      "Finding continuum pixels...\n",
      "taking spectra in 3 regions\n",
      "Target frac: 0.07\n",
      "198 out of 2821 pixels identified as continuum\n",
      "Cuts: f_cut 0.009399999999999999, sig_cut 0.009399999999999999\n",
      "Target frac: 0.07\n",
      "162 out of 2300 pixels identified as continuum\n",
      "Cuts: f_cut 0.009000000000000001, sig_cut 0.009000000000000001\n",
      "Target frac: 0.07\n",
      "127 out of 1794 pixels identified as continuum\n",
      "Cuts: f_cut 0.01259999999999998, sig_cut 0.01259999999999998\n",
      "487 pixels returned as continuum\n",
      "Fitting Continuum...\n",
      "Fitting Continuum in 3 Regions...\n"
     ]
    },
    {
     "name": "stderr",
     "output_type": "stream",
     "text": [
      "/home/jess/anaconda3/lib/python3.6/site-packages/scipy/optimize/minpack.py:779: OptimizeWarning: Covariance of the parameters could not be estimated\n",
      "  category=OptimizeWarning)\n"
     ]
    },
    {
     "name": "stdout",
     "output_type": "stream",
     "text": [
      "taking spectra in 3 regions\n",
      "Saved /home/jess/Desktop/Research/apogee_data/training_sets/norm_fluxes/west_cut_norm_tr_flux.npy\n",
      "Saved /home/jess/Desktop/Research/apogee_data/training_sets/norm_fluxes/west_cut_norm_tr_ivar.npy\n"
     ]
    }
   ],
   "source": [
    "dfile = AP_PATH + '/training_sets/west_sample_cut/'\n",
    "rfile = 'train_ref/west_ref_labels.csv' \n",
    "tr_label = ap.loadLabels(rfile, lbl_names=['SPT'])\n",
    "ds = ap.initializeTrainingSet(data=dfile, ref=rfile, lbl_names=['SPT'], save_base='west_cut')"
   ]
  },
  {
   "cell_type": "code",
   "execution_count": 61,
   "metadata": {},
   "outputs": [],
   "source": [
    "from TheCannon import apogee, dataset, model"
   ]
  },
  {
   "cell_type": "code",
   "execution_count": null,
   "metadata": {
    "collapsed": true
   },
   "outputs": [],
   "source": []
  }
 ],
 "metadata": {
  "kernelspec": {
   "display_name": "Python 3",
   "language": "python",
   "name": "python3"
  },
  "language_info": {
   "codemirror_mode": {
    "name": "ipython",
    "version": 3
   },
   "file_extension": ".py",
   "mimetype": "text/x-python",
   "name": "python",
   "nbconvert_exporter": "python",
   "pygments_lexer": "ipython3",
   "version": "3.6.3"
  }
 },
 "nbformat": 4,
 "nbformat_minor": 2
}
