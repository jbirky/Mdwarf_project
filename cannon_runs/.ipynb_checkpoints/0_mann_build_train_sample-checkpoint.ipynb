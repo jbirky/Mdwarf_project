{
 "cells": [
  {
   "cell_type": "code",
   "execution_count": 1,
   "metadata": {},
   "outputs": [
    {
     "name": "stderr",
     "output_type": "stream",
     "text": [
      "/home/jess/anaconda3/lib/python3.6/site-packages/h5py/__init__.py:34: FutureWarning: Conversion of the second argument of issubdtype from `float` to `np.floating` is deprecated. In future, it will be treated as `np.float64 == np.dtype(float).type`.\n",
      "  from ._conv import register_converters as _register_converters\n"
     ]
    }
   ],
   "source": [
    "%matplotlib inline\n",
    "import numpy as np\n",
    "import pandas as pd\n",
    "import matplotlib.pyplot as plt\n",
    "from astropy.io import fits, ascii\n",
    "from astropy.table import Table\n",
    "import os\n",
    "\n",
    "from astropy import units as u\n",
    "from astropy.coordinates import SkyCoord\n",
    "# import TheCannon\n",
    "import apogee_tools as ap\n",
    "AP_PATH = os.environ['APOGEE_DATA']"
   ]
  },
  {
   "cell_type": "code",
   "execution_count": 2,
   "metadata": {},
   "outputs": [
    {
     "ename": "FileNotFoundError",
     "evalue": "[Errno 2] No such file or directory: 'data_files/mann_raw.txt'",
     "output_type": "error",
     "traceback": [
      "\u001b[0;31m---------------------------------------------------------------------------\u001b[0m",
      "\u001b[0;31mFileNotFoundError\u001b[0m                         Traceback (most recent call last)",
      "\u001b[0;32m<ipython-input-2-1d40bbc498eb>\u001b[0m in \u001b[0;36m<module>\u001b[0;34m()\u001b[0m\n\u001b[1;32m      1\u001b[0m \u001b[0mfile\u001b[0m \u001b[0;34m=\u001b[0m \u001b[0;34m'data_files/mann_raw.txt'\u001b[0m\u001b[0;34m\u001b[0m\u001b[0m\n\u001b[0;32m----> 2\u001b[0;31m \u001b[0;32mwith\u001b[0m \u001b[0mopen\u001b[0m\u001b[0;34m(\u001b[0m\u001b[0mfile\u001b[0m\u001b[0;34m)\u001b[0m \u001b[0;32mas\u001b[0m \u001b[0mf\u001b[0m\u001b[0;34m:\u001b[0m\u001b[0;34m\u001b[0m\u001b[0m\n\u001b[0m\u001b[1;32m      3\u001b[0m     \u001b[0mcontent\u001b[0m \u001b[0;34m=\u001b[0m \u001b[0;34m[\u001b[0m\u001b[0mline\u001b[0m \u001b[0;32mfor\u001b[0m \u001b[0mline\u001b[0m \u001b[0;32min\u001b[0m \u001b[0mf\u001b[0m\u001b[0;34m]\u001b[0m\u001b[0;34m\u001b[0m\u001b[0m\n",
      "\u001b[0;31mFileNotFoundError\u001b[0m: [Errno 2] No such file or directory: 'data_files/mann_raw.txt'"
     ]
    }
   ],
   "source": [
    "file = 'data_files/mann_raw.txt'\n",
    "with open(file) as f:\n",
    "    content = [line for line in f]     "
   ]
  },
  {
   "cell_type": "code",
   "execution_count": 32,
   "metadata": {},
   "outputs": [],
   "source": [
    "ra = [float(c[28:37]) for c in content] \n",
    "dec = [float(c[38:47]) for c in content]\n",
    "teff = [float(c[65:69]) for c in content]\n",
    "e_teff = [float(c[70:72]) for c in content]\n",
    "fe_h = [float(c[101:106]) for c in content]\n",
    "e_fe_h = [float(c[107:111]) for c in content]\n",
    "spt = [c[112:118].strip() for c in content]"
   ]
  },
  {
   "cell_type": "code",
   "execution_count": 34,
   "metadata": {},
   "outputs": [],
   "source": [
    "dic = {'RA':ra, 'DEC':dec, 'TEFF':teff, 'E_TEFF':e_teff, 'FE_H':fe_h, 'E_FE_H':e_fe_h, 'SPT':spt}\n",
    "df = pd.DataFrame(data=dic)\n",
    "df.to_csv('data_files/mann_select_par.csv')"
   ]
  },
  {
   "cell_type": "code",
   "execution_count": 44,
   "metadata": {},
   "outputs": [
    {
     "name": "stdout",
     "output_type": "stream",
     "text": [
      "ERROR! Session/line number was not unique in database. History logging moved to new session 195\n"
     ]
    }
   ],
   "source": [
    "all_star = fits.open(AP_PATH + '/allStar-l31c.2.fits')\n",
    "all_star_data = all_star[1].data"
   ]
  },
  {
   "cell_type": "code",
   "execution_count": 47,
   "metadata": {
    "scrolled": true
   },
   "outputs": [],
   "source": [
    "data_dict = {'ID':all_star_data['APOGEE_ID'], 'RA':all_star_data['RA'], 'DEC':all_star_data['DEC'], \\\n",
    "            'J':all_star_data['J'], 'H':all_star_data['H'], 'K':all_star_data['K'], \\\n",
    "            'SNR':all_star_data['SNR'], 'TEFF':all_star_data['TEFF'], 'LOGG':all_star_data['LOGG'], \\\n",
    "            'M_H':all_star_data['M_H']}"
   ]
  },
  {
   "cell_type": "code",
   "execution_count": 50,
   "metadata": {},
   "outputs": [],
   "source": [
    "t = Table(list(data_dict.values()), names=tuple(data_dict.keys()))\n",
    "t.write('data_files/allStar_params.fits', format='fits')"
   ]
  },
  {
   "cell_type": "code",
   "execution_count": 4,
   "metadata": {},
   "outputs": [
    {
     "name": "stdout",
     "output_type": "stream",
     "text": [
      "['2M00182256+4401222'] [1]\n",
      "Downloading ['2M00182256+4401222'] from dr14\n",
      "2M00182256+4401222 not found in APOGEE main survey. \n",
      "\n",
      "Downloading ['2M00182256+4401222'] from dr14 Mdwarf ancilliary\n",
      "['2M02001278+1303112'] [1]\n",
      "Downloading ['2M02001278+1303112'] from dr14\n",
      "2M02001278+1303112 not found in APOGEE main survey. \n",
      "\n",
      "Downloading ['2M02001278+1303112'] from dr14 Mdwarf ancilliary\n",
      "['2M03553688+5214291'] [4151]\n",
      "Downloading ['2M03553688+5214291'] from dr14\n",
      "['2M05312734-0340356'] [1]\n",
      "Downloading ['2M05312734-0340356'] from dr14\n",
      "2M05312734-0340356 not found in APOGEE main survey. \n",
      "\n",
      "Downloading ['2M05312734-0340356'] from dr14 Mdwarf ancilliary\n",
      "['2M05413073+5329239'] [1]\n",
      "Downloading ['2M05413073+5329239'] from dr14\n",
      "2M05413073+5329239 not found in APOGEE main survey. \n",
      "\n",
      "Downloading ['2M05413073+5329239'] from dr14 Mdwarf ancilliary\n",
      "['2M06000351+0242236'] [1]\n",
      "Downloading ['2M06000351+0242236'] from dr14\n",
      "2M06000351+0242236 not found in APOGEE main survey. \n",
      "\n",
      "Downloading ['2M06000351+0242236'] from dr14 Mdwarf ancilliary\n",
      "['2M06544902+3316058'] [1]\n",
      "Downloading ['2M06544902+3316058'] from dr14\n",
      "2M06544902+3316058 not found in APOGEE main survey. \n",
      "\n",
      "Downloading ['2M06544902+3316058'] from dr14 Mdwarf ancilliary\n",
      "['2M08103429-1348514'] [4295]\n",
      "Downloading ['2M08103429-1348514'] from dr14\n",
      "['2M08524084+2818589'] [1]\n",
      "Downloading ['2M08524084+2818589'] from dr14\n",
      "2M08524084+2818589 not found in APOGEE main survey. \n",
      "\n",
      "Downloading ['2M08524084+2818589'] from dr14 Mdwarf ancilliary\n",
      "['2M09142298+5241125'] [1]\n",
      "Downloading ['2M09142298+5241125'] from dr14\n",
      "2M09142298+5241125 not found in APOGEE main survey. \n",
      "\n",
      "Downloading ['2M09142298+5241125'] from dr14 Mdwarf ancilliary\n",
      "['2M10112218+4927153'] [1]\n",
      "Downloading ['2M10112218+4927153'] from dr14\n",
      "2M10112218+4927153 not found in APOGEE main survey. \n",
      "\n",
      "Downloading ['2M10112218+4927153'] from dr14 Mdwarf ancilliary\n",
      "['2M10121768-0344441'] [1]\n",
      "Downloading ['2M10121768-0344441'] from dr14\n",
      "2M10121768-0344441 not found in APOGEE main survey. \n",
      "\n",
      "Downloading ['2M10121768-0344441'] from dr14 Mdwarf ancilliary\n",
      "['2M10193634+1952122'] [1]\n",
      "Downloading ['2M10193634+1952122'] from dr14\n",
      "2M10193634+1952122 not found in APOGEE main survey. \n",
      "\n",
      "Downloading ['2M10193634+1952122'] from dr14 Mdwarf ancilliary\n",
      "['2M10285555+0050275'] [1]\n",
      "Downloading ['2M10285555+0050275'] from dr14\n",
      "2M10285555+0050275 not found in APOGEE main survey. \n",
      "\n",
      "Downloading ['2M10285555+0050275'] from dr14 Mdwarf ancilliary\n",
      "['2M11474440+0048164'] [1]\n",
      "Downloading ['2M11474440+0048164'] from dr14\n",
      "2M11474440+0048164 not found in APOGEE main survey. \n",
      "\n",
      "Downloading ['2M11474440+0048164'] from dr14 Mdwarf ancilliary\n",
      "['2M13295979+1022376'] [1]\n",
      "Downloading ['2M13295979+1022376'] from dr14\n",
      "2M13295979+1022376 not found in APOGEE main survey. \n",
      "\n",
      "Downloading ['2M13295979+1022376'] from dr14 Mdwarf ancilliary\n",
      "['2M13454354+1453317'] [1]\n",
      "Downloading ['2M13454354+1453317'] from dr14\n",
      "2M13454354+1453317 not found in APOGEE main survey. \n",
      "\n",
      "Downloading ['2M13454354+1453317'] from dr14 Mdwarf ancilliary\n",
      "['2M16252459+5418148'] [1]\n",
      "Downloading ['2M16252459+5418148'] from dr14\n",
      "2M16252459+5418148 not found in APOGEE main survey. \n",
      "\n",
      "Downloading ['2M16252459+5418148'] from dr14 Mdwarf ancilliary\n",
      "['2M16541202+1154529'] [4522]\n",
      "Downloading ['2M16541202+1154529'] from dr14\n",
      "['2M17093153+4340531'] [1]\n",
      "Downloading ['2M17093153+4340531'] from dr14\n",
      "2M17093153+4340531 not found in APOGEE main survey. \n",
      "\n",
      "Downloading ['2M17093153+4340531'] from dr14 Mdwarf ancilliary\n",
      "['2M17362594+6820220'] [1]\n",
      "Downloading ['2M17362594+6820220'] from dr14\n",
      "2M17362594+6820220 not found in APOGEE main survey. \n",
      "\n",
      "Downloading ['2M17362594+6820220'] from dr14 Mdwarf ancilliary\n",
      "aspcapStar-r8-l31c.2-2M17362594+6820220.fits could not be found in https://data.sdss.org/sas/dr14/apogee/spectro/redux/r8/stars/l31c/l31c.2/1/aspcapStar-r8-l31c.2-2M17362594+6820220.fits or https://data.sdss.org/sas/dr14/apogee/spectro/redux/r8/stars/l31c/l31c.2/Mdwarfs/aspcapStar-r8-l31c.2-2M17362594+6820220.fits\n",
      "['2M18424688+5937374'] [1]\n",
      "Downloading ['2M18424688+5937374'] from dr14\n",
      "2M18424688+5937374 not found in APOGEE main survey. \n",
      "\n",
      "Downloading ['2M18424688+5937374'] from dr14 Mdwarf ancilliary\n",
      "['2M19165526+0510086'] [1]\n",
      "Downloading ['2M19165526+0510086'] from dr14\n",
      "2M19165526+0510086 not found in APOGEE main survey. \n",
      "\n",
      "Downloading ['2M19165526+0510086'] from dr14 Mdwarf ancilliary\n",
      "['2M20032651+2952000'] [4314]\n",
      "Downloading ['2M20032651+2952000'] from dr14\n",
      "['2M20531977+6209156'] [1]\n",
      "Downloading ['2M20531977+6209156'] from dr14\n",
      "2M20531977+6209156 not found in APOGEE main survey. \n",
      "\n",
      "Downloading ['2M20531977+6209156'] from dr14 Mdwarf ancilliary\n",
      "['2M21065473+3844265'] [1]\n",
      "Downloading ['2M21065473+3844265'] from dr14\n",
      "2M21065473+3844265 not found in APOGEE main survey. \n",
      "\n",
      "Downloading ['2M21065473+3844265'] from dr14 Mdwarf ancilliary\n",
      "aspcapStar-r8-l31c.2-2M21065473+3844265.fits could not be found in https://data.sdss.org/sas/dr14/apogee/spectro/redux/r8/stars/l31c/l31c.2/1/aspcapStar-r8-l31c.2-2M21065473+3844265.fits or https://data.sdss.org/sas/dr14/apogee/spectro/redux/r8/stars/l31c/l31c.2/Mdwarfs/aspcapStar-r8-l31c.2-2M21065473+3844265.fits\n",
      "['2M22563497+1633130'] [1]\n",
      "Downloading ['2M22563497+1633130'] from dr14\n",
      "2M22563497+1633130 not found in APOGEE main survey. \n",
      "\n",
      "Downloading ['2M22563497+1633130'] from dr14 Mdwarf ancilliary\n",
      "['2M23315208+1956142'] [1]\n",
      "Downloading ['2M23315208+1956142'] from dr14\n",
      "2M23315208+1956142 not found in APOGEE main survey. \n",
      "\n",
      "Downloading ['2M23315208+1956142'] from dr14 Mdwarf ancilliary\n",
      "['2M23315244+1956138'] [1]\n",
      "Downloading ['2M23315244+1956138'] from dr14\n",
      "2M23315244+1956138 not found in APOGEE main survey. \n",
      "\n",
      "Downloading ['2M23315244+1956138'] from dr14 Mdwarf ancilliary\n",
      "['2M23425274+3049219'] [5042]\n",
      "Downloading ['2M23425274+3049219'] from dr14\n",
      "2M23425274+3049219 not found in APOGEE main survey. \n",
      "\n",
      "Downloading ['2M23425274+3049219'] from dr14 Mdwarf ancilliary\n",
      "aspcapStar-r8-l31c.2-2M23425274+3049219.fits could not be found in https://data.sdss.org/sas/dr14/apogee/spectro/redux/r8/stars/l31c/l31c.2/5042/aspcapStar-r8-l31c.2-2M23425274+3049219.fits or https://data.sdss.org/sas/dr14/apogee/spectro/redux/r8/stars/l31c/l31c.2/Mdwarfs/aspcapStar-r8-l31c.2-2M23425274+3049219.fits\n",
      "['2M23491255+0224037'] [1]\n",
      "Downloading ['2M23491255+0224037'] from dr14\n",
      "2M23491255+0224037 not found in APOGEE main survey. \n",
      "\n",
      "Downloading ['2M23491255+0224037'] from dr14 Mdwarf ancilliary\n"
     ]
    }
   ],
   "source": [
    "for ap_id in list(sample['ID']):\n",
    "    ap.download(ap_id, type='aspcap', dir=AP_PATH+'/cannon_sets/mann_sample/')"
   ]
  },
  {
   "cell_type": "code",
   "execution_count": 7,
   "metadata": {},
   "outputs": [],
   "source": [
    "prop = pd.read_csv('samples/APOGEE_DR15_proposed.csv')\n",
    "coord = list(prop['COORD'])"
   ]
  },
  {
   "cell_type": "code",
   "execution_count": 27,
   "metadata": {},
   "outputs": [],
   "source": [
    "ra, dec = [], []\n",
    "for c in coord:\n",
    "    rd = SkyCoord(c, unit=(u.hourangle, u.deg))\n",
    "    ra.append(rd.ra.deg)\n",
    "    dec.append(rd.dec.deg)"
   ]
  },
  {
   "cell_type": "code",
   "execution_count": 30,
   "metadata": {},
   "outputs": [],
   "source": [
    "coord_dict = {'ID':prop['ID'], 'RA':ra, 'DEC':dec}\n",
    "df = pd.DataFrame(data=coord_dict)\n",
    "df.to_csv('samples/APOGEE_DR15_proposed.csv')"
   ]
  },
  {
   "cell_type": "code",
   "execution_count": null,
   "metadata": {
    "collapsed": true
   },
   "outputs": [],
   "source": []
  }
 ],
 "metadata": {
  "anaconda-cloud": {},
  "kernelspec": {
   "display_name": "Python 3",
   "language": "python",
   "name": "python3"
  },
  "language_info": {
   "codemirror_mode": {
    "name": "ipython",
    "version": 3
   },
   "file_extension": ".py",
   "mimetype": "text/x-python",
   "name": "python",
   "nbconvert_exporter": "python",
   "pygments_lexer": "ipython3",
   "version": "3.6.3"
  }
 },
 "nbformat": 4,
 "nbformat_minor": 1
}
