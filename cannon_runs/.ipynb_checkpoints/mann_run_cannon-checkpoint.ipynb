{
 "cells": [
  {
   "cell_type": "code",
   "execution_count": 1,
   "metadata": {
    "collapsed": true
   },
   "outputs": [],
   "source": [
    "%matplotlib inline\n",
    "import numpy as np\n",
    "import pandas as pd\n",
    "import matplotlib.pyplot as plt\n",
    "from astropy.io import fits, ascii\n",
    "from astropy.table import Table\n",
    "import os\n",
    "\n",
    "import TheCannon\n",
    "import apogee_tools as ap\n",
    "AP_PATH = os.environ['APOGEE_DATA']"
   ]
  },
  {
   "cell_type": "code",
   "execution_count": 2,
   "metadata": {
    "collapsed": false,
    "scrolled": true
   },
   "outputs": [
    {
     "name": "stdout",
     "output_type": "stream",
     "text": [
      "This is the right version\n",
      "Loading spectra from directory /Users/Jessica/Desktop/Research/apogee_data/cannon_sets/mann_sample/\n",
      "Spectra loaded\n",
      "Loading dataset\n",
      "This may take a while...\n",
      "Loaded /Users/Jessica/Desktop/Research/apogee_data/cannon_sets/norm_fluxes/mann_norm_tr_flux.npy\n",
      "Loaded /Users/Jessica/Desktop/Research/apogee_data/cannon_sets/norm_fluxes/mann_norm_tr_ivar.npy\n"
     ]
    }
   ],
   "source": [
    "dfile = AP_PATH + '/cannon_sets/mann_sample/'\n",
    "rfile = 'samples/mann_x_apogee.csv' \n",
    "tr_label = ap.loadLabels(rfile, lbl_names=['TEFF', 'FE_H'])\n",
    "ds = ap.initializeTrainingSet(data=dfile, ref=rfile, lbl_names=['TEFF', 'FE_H'], save_base='mann')"
   ]
  },
  {
   "cell_type": "code",
   "execution_count": 3,
   "metadata": {
    "collapsed": false
   },
   "outputs": [
    {
     "name": "stdout",
     "output_type": "stream",
     "text": [
      "Done training model. \n",
      "Inferring Labels\n"
     ]
    }
   ],
   "source": [
    "md, synth_fluxes, test_labels = ap.runCannon(ds)"
   ]
  },
  {
   "cell_type": "code",
   "execution_count": 5,
   "metadata": {
    "collapsed": false,
    "scrolled": true
   },
   "outputs": [
    {
     "name": "stdout",
     "output_type": "stream",
     "text": [
      "Reference label TEFF\n",
      "flagged 1 stars beyond 2-sig of ref labels\n",
      "Saved list flagged_stars_0.txt\n",
      "Reference label FE_H\n",
      "flagged 2 stars beyond 2-sig of ref labels\n",
      "Saved list flagged_stars_1.txt\n",
      "Plotting every label against every other\n"
     ]
    },
    {
     "name": "stderr",
     "output_type": "stream",
     "text": [
      "WARNING:root:Too few points to create valid contours\n"
     ]
    },
    {
     "name": "stdout",
     "output_type": "stream",
     "text": [
      "Diagnostic for label output vs. input\n",
      "Saved fig 1to1_label_0.png\n",
      "Diagnostic for label output vs. input\n",
      "Saved fig 1to1_label_1.png\n"
     ]
    },
    {
     "data": {
      "image/png": "[encoded data removed]",
      "text/plain": [
       "<matplotlib.figure.Figure at 0x1049dd780>"
      ]
     },
     "metadata": {},
     "output_type": "display_data"
    }
   ],
   "source": [
    "ds.diagnostics_1to1()"
   ]
  },
  {
   "cell_type": "code",
   "execution_count": 7,
   "metadata": {
    "collapsed": false
   },
   "outputs": [
    {
     "ename": "AttributeError",
     "evalue": "module 'apogee_tools' has no attribute 'crossValidate'",
     "output_type": "error",
     "traceback": [
      "\u001b[0;31m---------------------------------------------------------------------------\u001b[0m",
      "\u001b[0;31mAttributeError\u001b[0m                            Traceback (most recent call last)",
      "\u001b[0;32m<ipython-input-7-f8925f44a361>\u001b[0m in \u001b[0;36m<module>\u001b[0;34m()\u001b[0m\n\u001b[0;32m----> 1\u001b[0;31m \u001b[0mtrn_labels\u001b[0m\u001b[0;34m,\u001b[0m \u001b[0mcrv_labels\u001b[0m \u001b[0;34m=\u001b[0m \u001b[0map\u001b[0m\u001b[0;34m.\u001b[0m\u001b[0mcrossValidate\u001b[0m\u001b[0;34m(\u001b[0m\u001b[0mds\u001b[0m\u001b[0;34m,\u001b[0m \u001b[0mlabel_names\u001b[0m\u001b[0;34m=\u001b[0m\u001b[0;34m[\u001b[0m\u001b[0;34m'TEFF'\u001b[0m\u001b[0;34m,\u001b[0m \u001b[0;34m'FE_H'\u001b[0m\u001b[0;34m]\u001b[0m\u001b[0;34m)\u001b[0m\u001b[0;34m\u001b[0m\u001b[0m\n\u001b[0m",
      "\u001b[0;31mAttributeError\u001b[0m: module 'apogee_tools' has no attribute 'crossValidate'"
     ]
    }
   ],
   "source": [
    "trn_labels, crv_labels = ap.crossValidate(ds, lbl_names=['TEFF', 'FE_H'])"
   ]
  },
  {
   "cell_type": "code",
   "execution_count": null,
   "metadata": {
    "collapsed": true
   },
   "outputs": [],
   "source": []
  }
 ],
 "metadata": {
  "anaconda-cloud": {},
  "kernelspec": {
   "display_name": "Python [conda root]",
   "language": "python",
   "name": "conda-root-py"
  },
  "language_info": {
   "codemirror_mode": {
    "name": "ipython",
    "version": 3
   },
   "file_extension": ".py",
   "mimetype": "text/x-python",
   "name": "python",
   "nbconvert_exporter": "python",
   "pygments_lexer": "ipython3",
   "version": "3.5.2"
  }
 },
 "nbformat": 4,
 "nbformat_minor": 1
}
