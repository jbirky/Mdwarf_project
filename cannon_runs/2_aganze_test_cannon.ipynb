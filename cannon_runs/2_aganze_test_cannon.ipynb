{
 "cells": [
  {
   "cell_type": "code",
   "execution_count": 1,
   "metadata": {
    "collapsed": true
   },
   "outputs": [],
   "source": [
    "%matplotlib inline\n",
    "import numpy as np\n",
    "import pandas as pd\n",
    "import matplotlib.pyplot as plt\n",
    "from matplotlib import rc\n",
    "rc('font', family='serif')\n",
    "from operator import itemgetter\n",
    "from astropy.io import fits, ascii\n",
    "from astropy.table import Table\n",
    "import os\n",
    "import math\n",
    "\n",
    "import TheCannon\n",
    "from TheCannon import apogee, dataset\n",
    "import apogee_tools as ap\n",
    "AP_PATH = os.environ['APOGEE_DATA']\n",
    "os.environ[\"PATH\"] += os.pathsep + '/usr/local/texlive/2016/bin/x86_64-darwin'"
   ]
  },
  {
   "cell_type": "markdown",
   "metadata": {},
   "source": [
    "### Train SPT and Teff/[Fe/H] Models"
   ]
  },
  {
   "cell_type": "code",
   "execution_count": 16,
   "metadata": {
    "scrolled": true
   },
   "outputs": [
    {
     "name": "stdout",
     "output_type": "stream",
     "text": [
      "This is the right version\n",
      "Loading spectra from directory /home/jess/Desktop/Research/apogee_data/training_sets/west_sample_cut/\n",
      "Spectra loaded\n",
      "Loading dataset\n",
      "This may take a while...\n",
      "Loaded /home/jess/Desktop/Research/apogee_data/training_sets/norm_fluxes/west_cut_norm_tr_flux.npy\n",
      "Loaded /home/jess/Desktop/Research/apogee_data/training_sets/norm_fluxes/west_cut_norm_tr_ivar.npy\n"
     ]
    }
   ],
   "source": [
    "west_dfile    = AP_PATH + '/training_sets/west_sample_cut/'\n",
    "west_rfile    = 'train_ref/west_ref_labels.csv' \n",
    "west_tr_label = ap.loadLabels(west_rfile, lbl_names=['SPT'])\n",
    "west_tr_unc   = np.array([[1] for i in west_tr_label])\n",
    "west_ds       = ap.initializeTrainingSet(data=west_dfile, ref=west_rfile, lbl_names=['SPT'], save_base='west_cut')"
   ]
  },
  {
   "cell_type": "code",
   "execution_count": 17,
   "metadata": {},
   "outputs": [
    {
     "name": "stdout",
     "output_type": "stream",
     "text": [
      "This is the right version\n",
      "Loading spectra from directory /home/jess/Desktop/Research/apogee_data/training_sets/mann_sample/\n",
      "Spectra loaded\n",
      "Loading dataset\n",
      "This may take a while...\n",
      "Loaded /home/jess/Desktop/Research/apogee_data/training_sets/norm_fluxes/mann_norm_tr_flux.npy\n",
      "Loaded /home/jess/Desktop/Research/apogee_data/training_sets/norm_fluxes/mann_norm_tr_ivar.npy\n"
     ]
    }
   ],
   "source": [
    "mann_dfile    = AP_PATH + '/training_sets/mann_sample/'\n",
    "mann_rfile    = 'train_ref/mann_ref_labels.csv' \n",
    "mann_tr_label = ap.loadLabels(mann_rfile, lbl_names=['TEFF', 'FE_H'])\n",
    "mann_tr_unc   = ap.loadLabels(mann_rfile, lbl_names=['E_TEFF', 'E_FE_H'])\n",
    "mann_ds       = ap.initializeTrainingSet(data=mann_dfile, ref=mann_rfile, lbl_names=['TEFF', 'FE_H'], save_base='mann')"
   ]
  },
  {
   "cell_type": "code",
   "execution_count": 4,
   "metadata": {},
   "outputs": [
    {
     "name": "stdout",
     "output_type": "stream",
     "text": [
      "Done training model. \n",
      "Inferring Labels\n",
      "Done training model. \n",
      "Inferring Labels\n"
     ]
    }
   ],
   "source": [
    "west_md, west_md_fl, west_te_label = ap.runCannon(west_ds)\n",
    "mann_md, mann_md_fl, mann_te_label = ap.runCannon(mann_ds)"
   ]
  },
  {
   "cell_type": "markdown",
   "metadata": {},
   "source": [
    "### Load test set"
   ]
  },
  {
   "cell_type": "code",
   "execution_count": 25,
   "metadata": {
    "collapsed": true
   },
   "outputs": [],
   "source": [
    "mdlist = pd.read_csv('test_ref/known_mdwarfs.csv')['APOGEE_ID']\n",
    "for name in list(mdlist):\n",
    "    ap.download(name, type='aspcap', dir=AP_PATH+'/known_mdwarfs')"
   ]
  },
  {
   "cell_type": "code",
   "execution_count": 5,
   "metadata": {},
   "outputs": [
    {
     "name": "stdout",
     "output_type": "stream",
     "text": [
      "This is the right version\n",
      "Loading spectra from directory /home/jess/Desktop/Research/apogee_data/aganze_xmatch\n",
      "Spectra loaded\n"
     ]
    }
   ],
   "source": [
    "te_ID, wl, te_flux, te_ivar = apogee.load_spectra(AP_PATH + '/aganze_xmatch')\n",
    "te_label = None"
   ]
  },
  {
   "cell_type": "code",
   "execution_count": 6,
   "metadata": {},
   "outputs": [
    {
     "name": "stdout",
     "output_type": "stream",
     "text": [
      "Loading dataset\n",
      "This may take a while...\n"
     ]
    }
   ],
   "source": [
    "test_ds = dataset.Dataset(wl, te_ID, te_flux, te_ivar, te_label, te_ID, te_flux, te_ivar)"
   ]
  },
  {
   "cell_type": "markdown",
   "metadata": {},
   "source": [
    "### Apply models and plot distributions"
   ]
  },
  {
   "cell_type": "code",
   "execution_count": 7,
   "metadata": {},
   "outputs": [
    {
     "name": "stdout",
     "output_type": "stream",
     "text": [
      "Inferring Labels\n",
      "Inferring Labels\n"
     ]
    }
   ],
   "source": [
    "spt_ds, tme_ds = test_ds, test_ds\n",
    "\n",
    "spt_ds.set_label_names(['SPT'])\n",
    "spt_errs  = west_md.infer_labels(spt_ds)\n",
    "spt_label = spt_ds.test_label_vals\n",
    "\n",
    "tme_ds.set_label_names(['T_{eff}', '[Fe/H]'])\n",
    "tme_errs  = mann_md.infer_labels(tme_ds)\n",
    "tme_label = tme_ds.test_label_vals"
   ]
  },
  {
   "cell_type": "code",
   "execution_count": 77,
   "metadata": {},
   "outputs": [],
   "source": [
    "te_spt  = list(map(itemgetter(0), spt_label))\n",
    "\n",
    "te_teff = list(map(itemgetter(0), tme_label))\n",
    "te_fe_h = list(map(itemgetter(1), tme_label))\n",
    "\n",
    "tr_teff = list(map(itemgetter(0), mann_ds.tr_label))\n",
    "tr_fe_h = list(map(itemgetter(1), mann_ds.tr_label))"
   ]
  },
  {
   "cell_type": "code",
   "execution_count": 78,
   "metadata": {},
   "outputs": [
    {
     "name": "stdout",
     "output_type": "stream",
     "text": [
      "3072.0 4131.0\n",
      "-0.48 0.49\n"
     ]
    }
   ],
   "source": [
    "print(min(tr_teff), max(tr_teff))\n",
    "print(min(tr_fe_h), max(tr_fe_h))"
   ]
  },
  {
   "cell_type": "code",
   "execution_count": 76,
   "metadata": {},
   "outputs": [
    {
     "data": {
      "image/png": "[encoded data removed]",
      "text/plain": [
       "<matplotlib.figure.Figure at 0x7f3f349bd470>"
      ]
     },
     "metadata": {},
     "output_type": "display_data"
    },
    {
     "data": {
      "image/png": "[encoded data removed]",
      "text/plain": [
       "<matplotlib.figure.Figure at 0x7f3f34adaf60>"
      ]
     },
     "metadata": {},
     "output_type": "display_data"
    }
   ],
   "source": [
    "fig, (ax1, ax2, ax3) = plt.subplots(1, 3, figsize=(12,3), facecolor='w')\n",
    "ax1.hist(te_spt, color='k', alpha=.7)\n",
    "ax1.set_xlabel('SPT', fontsize=15)\n",
    "ax2.hist(te_teff, color='k', alpha=.7)\n",
    "ax2.set_xlabel('Teff', fontsize=15)\n",
    "ax3.hist(te_fe_h, color='k', alpha=.7)\n",
    "ax3.set_xlabel('Fe/H', fontsize=15)\n",
    "ax2.set_title('Test Label Distributions', fontsize=20)\n",
    "plt.savefig('2_aganze_results/Test_Label_Distributions.png')\n",
    "plt.show()\n",
    "plt.close()\n",
    "\n",
    "plt.scatter(te_teff, te_fe_h, marker='x', color='b', label='Test sample')\n",
    "plt.scatter(tr_teff, tr_fe_h, marker='x', color='r', label='Training sample')\n",
    "plt.xlabel('Teff', fontsize=15)\n",
    "plt.ylabel('Fe/H', fontsize=15)\n",
    "plt.legend(loc='upper right')\n",
    "plt.savefig('2_aganze_results/Test_Label_Scatter.png')\n",
    "plt.show()\n",
    "plt.close()"
   ]
  },
  {
   "cell_type": "code",
   "execution_count": 73,
   "metadata": {},
   "outputs": [
    {
     "data": {
      "image/png": "[encoded data removed]",
      "text/plain": [
       "<matplotlib.figure.Figure at 0x7f3f348bfd68>"
      ]
     },
     "metadata": {},
     "output_type": "display_data"
    },
    {
     "data": {
      "image/png": "[encoded data removed]",
      "text/plain": [
       "<matplotlib.figure.Figure at 0x7f3f34c11320>"
      ]
     },
     "metadata": {},
     "output_type": "display_data"
    }
   ],
   "source": [
    "fig, (ax1, ax2, ax3) = plt.subplots(1, 3, figsize=(12,3.5), facecolor='w')\n",
    "ax1.hist(tr_teff, color='k', alpha=.7)\n",
    "ax1.set_xlabel('Teff', fontsize=15)\n",
    "ax1.set_ylabel('N sources', fontsize=15)\n",
    "ax2.hist(tr_fe_h, color='k', alpha=.7)\n",
    "ax2.set_xlabel('Fe/H', fontsize=15)\n",
    "ax2.set_ylabel('N sources', fontsize=15)\n",
    "ax3.scatter(tr_teff, tr_fe_h, marker='x', color='k')\n",
    "ax3.set_xlabel('Teff', fontsize=15)\n",
    "ax3.set_ylabel('Fe/H', fontsize=15)\n",
    "ax2.set_title('Training Label Distribution', fontsize=20)\n",
    "plt.tight_layout()\n",
    "plt.savefig('2_aganze_results/Mann_Training_Distributions.png')\n",
    "plt.show()\n",
    "plt.close()\n",
    "\n",
    "fig = plt.figure(figsize=(4,3.5)) \n",
    "plt.hist(np.transpose(west_ds.tr_label)[0], color='k', alpha=.7)\n",
    "plt.title('Training Label Distribution', fontsize=20)\n",
    "plt.xlabel('SPT', fontsize=15)\n",
    "plt.ylabel('N sources', fontsize=15)\n",
    "plt.savefig('2_aganze_results/West_Training_Distributions.png')\n",
    "plt.show()"
   ]
  },
  {
   "cell_type": "code",
   "execution_count": null,
   "metadata": {},
   "outputs": [],
   "source": []
  },
  {
   "cell_type": "markdown",
   "metadata": {},
   "source": [
    "### Plot models over test spectra"
   ]
  },
  {
   "cell_type": "code",
   "execution_count": null,
   "metadata": {
    "collapsed": true
   },
   "outputs": [],
   "source": [
    "band = 1\n",
    "nplots = 10\n",
    "snr = pd.read_csv(west_rfile)['SNR']\n",
    "plotCannonModels(spt_ds, west_, spt_label, save=True, out='aganze_results/Models_Band'+str(n)+'.pdf', \\\n",
    "                 tr_lbl_unc=west_tr_unc, te_lbl_unc=[.6], snr=snr, band=band, nplots=nplots)"
   ]
  }
 ],
 "metadata": {
  "kernelspec": {
   "display_name": "Python 3",
   "language": "python",
   "name": "python3"
  },
  "language_info": {
   "codemirror_mode": {
    "name": "ipython",
    "version": 3
   },
   "file_extension": ".py",
   "mimetype": "text/x-python",
   "name": "python",
   "nbconvert_exporter": "python",
   "pygments_lexer": "ipython3",
   "version": "3.6.3"
  }
 },
 "nbformat": 4,
 "nbformat_minor": 2
}
