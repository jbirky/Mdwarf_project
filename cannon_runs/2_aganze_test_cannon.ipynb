{
 "cells": [
  {
   "cell_type": "code",
   "execution_count": 27,
   "metadata": {
    "collapsed": true
   },
   "outputs": [],
   "source": [
    "%matplotlib inline\n",
    "import numpy as np\n",
    "import pandas as pd\n",
    "import matplotlib.pyplot as plt\n",
    "from matplotlib import rc\n",
    "rc('font', family='serif')\n",
    "from astropy.io import fits, ascii\n",
    "from astropy.table import Table\n",
    "import os\n",
    "import math\n",
    "\n",
    "import TheCannon\n",
    "from TheCannon import apogee, dataset\n",
    "import apogee_tools as ap\n",
    "AP_PATH = os.environ['APOGEE_DATA']"
   ]
  },
  {
   "cell_type": "markdown",
   "metadata": {},
   "source": [
    "### Train SPT and Teff/[Fe/H] Models"
   ]
  },
  {
   "cell_type": "code",
   "execution_count": 22,
   "metadata": {
    "scrolled": true
   },
   "outputs": [
    {
     "name": "stdout",
     "output_type": "stream",
     "text": [
      "This is the right version\n",
      "Loading spectra from directory /home/jess/Desktop/Research/apogee_data/training_sets/west_sample_cut/\n",
      "Spectra loaded\n",
      "Loading dataset\n",
      "This may take a while...\n",
      "Loaded /home/jess/Desktop/Research/apogee_data/training_sets/norm_fluxes/west_cut_norm_tr_flux.npy\n",
      "Loaded /home/jess/Desktop/Research/apogee_data/training_sets/norm_fluxes/west_cut_norm_tr_ivar.npy\n"
     ]
    }
   ],
   "source": [
    "west_dfile = AP_PATH + '/training_sets/west_sample_cut/'\n",
    "west_rfile = 'train_ref/west_ref_labels.csv' \n",
    "west_tr_label = ap.loadLabels(west_rfile, lbl_names=['SPT'])\n",
    "west_ds = ap.initializeTrainingSet(data=west_dfile, ref=west_rfile, lbl_names=['SPT'], save_base='west_cut')"
   ]
  },
  {
   "cell_type": "code",
   "execution_count": 19,
   "metadata": {},
   "outputs": [
    {
     "name": "stdout",
     "output_type": "stream",
     "text": [
      "This is the right version\n",
      "Loading spectra from directory /home/jess/Desktop/Research/apogee_data/training_sets/mann_sample/\n",
      "Spectra loaded\n",
      "Loading dataset\n",
      "This may take a while...\n",
      "Loaded /home/jess/Desktop/Research/apogee_data/training_sets/norm_fluxes/mann_norm_tr_flux.npy\n",
      "Loaded /home/jess/Desktop/Research/apogee_data/training_sets/norm_fluxes/mann_norm_tr_ivar.npy\n"
     ]
    }
   ],
   "source": [
    "mann_dfile = AP_PATH + '/training_sets/mann_sample/'\n",
    "mann_rfile = 'train_ref/mann_ref_labels.csv' \n",
    "mann_tr_label = ap.loadLabels(mann_rfile, lbl_names=['TEFF', 'FE_H'])\n",
    "mann_tr_label_unc = ap.loadLabels(mann_rfile, lbl_names=['E_TEFF', 'E_FE_H'])\n",
    "mann_ds = ap.initializeTrainingSet(data=mann_dfile, ref=mann_rfile, lbl_names=['TEFF', 'FE_H'], save_base='mann')"
   ]
  },
  {
   "cell_type": "code",
   "execution_count": 23,
   "metadata": {},
   "outputs": [
    {
     "name": "stdout",
     "output_type": "stream",
     "text": [
      "Done training model. \n",
      "Inferring Labels\n",
      "Done training model. \n",
      "Inferring Labels\n"
     ]
    }
   ],
   "source": [
    "west_md, west_md_fl, west_te_label = ap.runCannon(west_ds)\n",
    "mann_md, mann_md_fl, mann_te_label = ap.runCannon(mann_ds)"
   ]
  },
  {
   "cell_type": "markdown",
   "metadata": {},
   "source": [
    "### Load test set"
   ]
  },
  {
   "cell_type": "code",
   "execution_count": 26,
   "metadata": {},
   "outputs": [
    {
     "name": "stdout",
     "output_type": "stream",
     "text": [
      "This is the right version\n",
      "Loading spectra from directory /home/jess/Desktop/Research/apogee_data/aganze_xmatch\n",
      "Spectra loaded\n"
     ]
    }
   ],
   "source": [
    "te_ID, wl, te_flux, te_ivar = apogee.load_spectra(AP_PATH + '/aganze_xmatch')\n",
    "te_label = None"
   ]
  },
  {
   "cell_type": "code",
   "execution_count": 29,
   "metadata": {},
   "outputs": [
    {
     "name": "stdout",
     "output_type": "stream",
     "text": [
      "Loading dataset\n",
      "This may take a while...\n"
     ]
    }
   ],
   "source": [
    "test_ds = dataset.Dataset(wl, te_ID, te_flux, te_ivar, te_label, te_ID, te_flux, te_ivar)"
   ]
  },
  {
   "cell_type": "markdown",
   "metadata": {},
   "source": [
    "### Apply models and plot distributions"
   ]
  },
  {
   "cell_type": "code",
   "execution_count": null,
   "metadata": {
    "collapsed": true
   },
   "outputs": [],
   "source": []
  }
 ],
 "metadata": {
  "kernelspec": {
   "display_name": "Python 3",
   "language": "python",
   "name": "python3"
  },
  "language_info": {
   "codemirror_mode": {
    "name": "ipython",
    "version": 3
   },
   "file_extension": ".py",
   "mimetype": "text/x-python",
   "name": "python",
   "nbconvert_exporter": "python",
   "pygments_lexer": "ipython3",
   "version": "3.6.3"
  }
 },
 "nbformat": 4,
 "nbformat_minor": 2
}
