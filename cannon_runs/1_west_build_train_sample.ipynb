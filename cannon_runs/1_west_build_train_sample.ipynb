{
 "cells": [
  {
   "cell_type": "code",
   "execution_count": 2,
   "metadata": {
    "collapsed": true
   },
   "outputs": [],
   "source": [
    "%matplotlib inline\n",
    "import numpy as np\n",
    "import pandas as pd\n",
    "import matplotlib.pyplot as plt\n",
    "from matplotlib import rc\n",
    "rc('font', family='serif')\n",
    "from astropy.io import fits, ascii\n",
    "from astropy.table import Table\n",
    "import os\n",
    "import math\n",
    "\n",
    "import TheCannon\n",
    "import apogee_tools as ap\n",
    "AP_PATH = os.environ['APOGEE_DATA']"
   ]
  },
  {
   "cell_type": "code",
   "execution_count": 14,
   "metadata": {},
   "outputs": [
    {
     "data": {
      "text/plain": [
       "True"
      ]
     },
     "execution_count": 14,
     "metadata": {},
     "output_type": "execute_result"
    }
   ],
   "source": [
    "dfile = AP_PATH + '/training_sets/west_sample_cut/'\n",
    "rfile = 'train_ref/west_ref_labels.csv'\n",
    "\n",
    "sources = pd.read_csv(rfile)\n",
    "dname = [s.split('2-')[1].split('.fits')[0] for s in os.listdir(dfile)]\n",
    "set(dname) == set(sources.ID)"
   ]
  },
  {
   "cell_type": "code",
   "execution_count": 7,
   "metadata": {
    "scrolled": true
   },
   "outputs": [
    {
     "name": "stdout",
     "output_type": "stream",
     "text": [
      "['2M03114974+0115158'] [4480]\n",
      "Downloading ['2M03114974+0115158'] from dr14 2.5m survey.\n",
      "aspcapStar-r8-l31c.2-2M03114974+0115158.fits successfully downloaded. \n",
      "\n",
      "Already have file for 2M03122509+0021585\n",
      "Already have file for 2M03423963+0012102\n",
      "Already have file for 2M04262170+1800009\n",
      "['2M09152918+4407461'] [2103]\n",
      "Downloading ['2M09152918+4407461'] from dr14 2.5m survey.\n",
      "aspcapStar-r8-l31c.2-2M09152918+4407461.fits successfully downloaded. \n",
      "\n",
      "['2M09183649+2207022'] [5116]\n",
      "Downloading ['2M09183649+2207022'] from dr14 2.5m survey.\n",
      "aspcapStar-r8-l31c.2-2M09183649+2207022.fits successfully downloaded. \n",
      "\n",
      "Already have file for 2M09332262+2749021\n",
      "Already have file for 2M09373349+5534057\n",
      "Already have file for 2M10313413+3441535\n",
      "['2M11194647+0820356'] [4510]\n",
      "Downloading ['2M11194647+0820356'] from dr14 2.5m survey.\n",
      "aspcapStar-r8-l31c.2-2M11194647+0820356.fits successfully downloaded. \n",
      "\n",
      "Already have file for 2M11203609+0704135\n",
      "Already have file for 2M11570299+2028436\n",
      "Already have file for 2M12203634+2505351\n",
      "Already have file for 2M12212701-0030560\n",
      "Already have file for 2M12423245-0646077\n",
      "Already have file for 2M12464541-0312524\n",
      "Already have file for 2M12471099+1109566\n",
      "Already have file for 2M12492657-0312032\n",
      "['2M12503440+4309482'] [5098]\n",
      "Downloading ['2M12503440+4309482'] from dr14 2.5m survey.\n",
      "aspcapStar-r8-l31c.2-2M12503440+4309482.fits successfully downloaded. \n",
      "\n",
      "Already have file for 2M12523816+1240586\n",
      "Already have file for 2M12552141+4150425\n",
      "Already have file for 2M12564117+4233175\n",
      "Already have file for 2M13032161+4220407\n",
      "Already have file for 2M13415860+1852278\n",
      "['2M13442970+5625445'] [4500]\n",
      "Downloading ['2M13442970+5625445'] from dr14 2.5m survey.\n",
      "aspcapStar-r8-l31c.2-2M13442970+5625445.fits successfully downloaded. \n",
      "\n",
      "Already have file for 2M13452385+1844222\n",
      "Already have file for 2M13542316+2543152\n",
      "Already have file for 2M14030704+5403356\n",
      "['2M14290377+4917403'] [5186]\n",
      "Downloading ['2M14290377+4917403'] from dr14 2.5m survey.\n",
      "aspcapStar-r8-l31c.2-2M14290377+4917403.fits successfully downloaded. \n",
      "\n",
      "Already have file for 2M14350795+4954080\n",
      "Already have file for 2M14575608+2140337\n",
      "Already have file for 2M14592059+3219293\n",
      "Already have file for 2M15004819+2050499\n",
      "Already have file for 2M15010818+2250020\n",
      "['2M15195523+0254040'] [5200]\n",
      "Downloading ['2M15195523+0254040'] from dr14 2.5m survey.\n",
      "aspcapStar-r8-l31c.2-2M15195523+0254040.fits successfully downloaded. \n",
      "\n",
      "Already have file for 2M15232142+3453119\n",
      "['2M15575183+0657068'] [5131]\n",
      "Downloading ['2M15575183+0657068'] from dr14 2.5m survey.\n",
      "aspcapStar-r8-l31c.2-2M15575183+0657068.fits successfully downloaded. \n",
      "\n",
      "Already have file for 2M15591175+0637577\n",
      "Already have file for 2M16055380+2303058\n",
      "['2M16103232+2249116'] [5125]\n",
      "Downloading ['2M16103232+2249116'] from dr14 2.5m survey.\n",
      "aspcapStar-r8-l31c.2-2M16103232+2249116.fits successfully downloaded. \n",
      "\n",
      "Already have file for 2M16112965+2403267\n",
      "Already have file for 2M16113384+2429072\n",
      "['2M16114429+2253294'] [5125]\n",
      "Downloading ['2M16114429+2253294'] from dr14 2.5m survey.\n",
      "aspcapStar-r8-l31c.2-2M16114429+2253294.fits successfully downloaded. \n",
      "\n",
      "Already have file for 2M16355440+3716239\n",
      "Already have file for 2M16363188+3655364\n",
      "['2M16393824+3550337' '2M16393824+3550337'] [4105 4105]\n",
      "Downloading ['2M16393824+3550337' '2M16393824+3550337'] from dr14 2.5m survey.\n",
      "aspcapStar-r8-l31c.2-2M16393824+3550337.fits successfully downloaded. \n",
      "\n",
      "['2M16410962+3535407'] [4105]\n",
      "Downloading ['2M16410962+3535407'] from dr14 2.5m survey.\n",
      "aspcapStar-r8-l31c.2-2M16410962+3535407.fits successfully downloaded. \n",
      "\n",
      "['2M16485665+3639205'] [4105]\n",
      "Downloading ['2M16485665+3639205'] from dr14 2.5m survey.\n",
      "aspcapStar-r8-l31c.2-2M16485665+3639205.fits successfully downloaded. \n",
      "\n",
      "Already have file for 2M19203934+3748048\n",
      "Already have file for 2M19210112+3742134\n",
      "Already have file for 2M23295172+4825211\n"
     ]
    }
   ],
   "source": [
    "for name in list(sources.ID):\n",
    "    ap.download(name, type='aspcap', dir=dfile)"
   ]
  },
  {
   "cell_type": "code",
   "execution_count": null,
   "metadata": {
    "collapsed": true
   },
   "outputs": [],
   "source": []
  }
 ],
 "metadata": {
  "kernelspec": {
   "display_name": "Python 3",
   "language": "python",
   "name": "python3"
  },
  "language_info": {
   "codemirror_mode": {
    "name": "ipython",
    "version": 3
   },
   "file_extension": ".py",
   "mimetype": "text/x-python",
   "name": "python",
   "nbconvert_exporter": "python",
   "pygments_lexer": "ipython3",
   "version": "3.6.3"
  }
 },
 "nbformat": 4,
 "nbformat_minor": 1
}
