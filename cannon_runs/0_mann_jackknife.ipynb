{
 "cells": [
  {
   "cell_type": "code",
   "execution_count": 1,
   "metadata": {},
   "outputs": [
    {
     "name": "stderr",
     "output_type": "stream",
     "text": [
      "/home/jess/anaconda3/lib/python3.6/site-packages/h5py/__init__.py:34: FutureWarning: Conversion of the second argument of issubdtype from `float` to `np.floating` is deprecated. In future, it will be treated as `np.float64 == np.dtype(float).type`.\n",
      "  from ._conv import register_converters as _register_converters\n"
     ]
    }
   ],
   "source": [
    "%matplotlib inline\n",
    "import numpy as np\n",
    "import pandas as pd\n",
    "import matplotlib.pyplot as plt\n",
    "from matplotlib.ticker import AutoMinorLocator\n",
    "from matplotlib import rc\n",
    "plt.style.use('classic')\n",
    "rc('font', family='serif')\n",
    "from astropy.io import fits, ascii\n",
    "from astropy.table import Table\n",
    "import os\n",
    "import math\n",
    "\n",
    "import TheCannon\n",
    "from TheCannon import apogee, dataset, model\n",
    "import apogee_tools as ap\n",
    "AP_PATH = os.environ['APOGEE_DATA']\n",
    "\n",
    "line_list = ap.lines\n",
    "line_names = line_list.keys()"
   ]
  },
  {
   "cell_type": "code",
   "execution_count": 47,
   "metadata": {},
   "outputs": [
    {
     "name": "stdout",
     "output_type": "stream",
     "text": [
      "This is the right version\n",
      "Loading spectra from directory /home/jess/Desktop/Research/apogee_data/training_sets/mann_sample/\n",
      "Spectra loaded\n",
      "Loading dataset\n",
      "This may take a while...\n"
     ]
    }
   ],
   "source": [
    "dfile = AP_PATH + '/training_sets/mann_sample/'\n",
    "rfile = 'train_ref/mann_ref_labels.csv'  \n",
    "\n",
    "ids, wl, tr_flux, tr_ivar = apogee.load_spectra(dfile)\n",
    "tr_ID = [x.split('2-')[1].split('.fits')[0] for x in ids]\n",
    "tr_label = scaleLabels(ap.loadLabels(rfile, lbl_names=['TEFF', 'FE_H']))\n",
    "\n",
    "ds = dataset.Dataset(wl, tr_ID, tr_flux, tr_ivar, tr_label, tr_ID, tr_flux, tr_ivar)"
   ]
  },
  {
   "cell_type": "code",
   "execution_count": null,
   "metadata": {},
   "outputs": [],
   "source": []
  },
  {
   "cell_type": "code",
   "execution_count": 4,
   "metadata": {
    "collapsed": true
   },
   "outputs": [],
   "source": [
    "def jackknife(ds, **kwargs):\n",
    "\n",
    "    \"\"\"\n",
    "    Cross-validation test of Cannon test spectra\n",
    "    Input:  'ds' : dataset object output from initializeTrainingSet()\n",
    "    Output: plot training label vs. inferred label left out of set\n",
    "            return training label and inferred label\n",
    "    \"\"\"\n",
    "\n",
    "    # optional\n",
    "    label_names = kwargs.get('lbl_names', ['Teff', 'Fe/H'])\n",
    "\n",
    "    # ds: Data set of all objects (including n); continuum normalized in initializeTrainingSet()\n",
    "    wl = ds.wl\n",
    "    nsources = len(ds.tr_ID)\n",
    "\n",
    "    # Training labels and cross-validated labels\n",
    "    trn_labels, crv_labels = [], []\n",
    "\n",
    "    # Remove nth spectrum from the training set and run Cannon model on the rest of spectra\n",
    "    for n in range(nsources): \n",
    "\n",
    "        tr_ids   = list(ds.tr_ID)\n",
    "        tr_flux  = list(ds.tr_flux)\n",
    "        tr_ivar  = list(ds.tr_ivar)\n",
    "        tr_label = list(ds.tr_label)\n",
    "\n",
    "        tr_ids.pop(n)\n",
    "        tr_flux.pop(n)\n",
    "        tr_ivar.pop(n)\n",
    "        tr_label.pop(n)\n",
    "\n",
    "        id_minus_n = np.array(tr_ids)\n",
    "        fl_minus_n = np.array(tr_flux)\n",
    "        vr_minus_n = np.array(tr_ivar)\n",
    "        tr_label_minus_n = np.array(tr_label)\n",
    "\n",
    "\n",
    "        ds_minus_n = dataset.Dataset(wl, id_minus_n, fl_minus_n, vr_minus_n, tr_label_minus_n, \\\n",
    "            id_minus_n, fl_minus_n, vr_minus_n)\n",
    "\n",
    "        ds_minus_n.set_label_names(label_names)       \n",
    "        model_minus_n, synth_fl_minus_n, te_label_minus_n = ap.runCannon(ds_minus_n)\n",
    "\n",
    "        # Find cross-validation label\n",
    "        crv_label_n = test_labels[n]\n",
    "        crv_labels.append(crv_label_n)\n",
    "        \n",
    "        # Jackknife\n",
    "        \n",
    "        \n",
    "        np.save(model_minus_n.coeffs, save_dir+'model_coeff_'+str(i))\n",
    "        np.save(synth_fl_minus_n, save_dir+'synth_flux_'+str(i))\n",
    "        np.save(te_label_minus_n, save_dir+'test_labels_'+str(i))\n",
    "        np.save(crv_label_n, save_dir+'crv_label_'+str(i))\n",
    "\n",
    "        print('Labeled [%s/%s] sources.\\n'%(n+1, nsources))\n",
    "\n",
    "    trn_labels = ds.tr_label\n",
    "\n",
    "    return trn_labels, crv_labels"
   ]
  },
  {
   "cell_type": "code",
   "execution_count": 37,
   "metadata": {},
   "outputs": [],
   "source": [
    "def _getPivotsAndScales(label_vals):\n",
    "\n",
    "    qs = np.percentile(label_vals, (2.5, 50, 97.5), axis=0)\n",
    "    pivots = qs[1]\n",
    "    scales = (qs[2] - qs[0])/4.\n",
    "\n",
    "    return pivots, scales\n",
    "\n",
    "def scaleLabels(labels):\n",
    "    \n",
    "    scaled_labels = []\n",
    "    for i in range(labels.shape[1]):\n",
    "        p, s = _getPivotsAndScales(labels.T[i])\n",
    "        slbl = [(t - p)/s for t in labels.T[i]]\n",
    "        scaled_labels.append(slbl)\n",
    "        \n",
    "    return np.array(scaled_labels).T"
   ]
  },
  {
   "cell_type": "code",
   "execution_count": null,
   "metadata": {},
   "outputs": [],
   "source": []
  },
  {
   "cell_type": "code",
   "execution_count": 15,
   "metadata": {},
   "outputs": [
    {
     "data": {
      "text/plain": [
       "2"
      ]
     },
     "execution_count": 15,
     "metadata": {},
     "output_type": "execute_result"
    }
   ],
   "source": [
    "tr_label.shape[1]"
   ]
  },
  {
   "cell_type": "code",
   "execution_count": null,
   "metadata": {
    "collapsed": true
   },
   "outputs": [],
   "source": []
  }
 ],
 "metadata": {
  "kernelspec": {
   "display_name": "Python 3",
   "language": "python",
   "name": "python3"
  },
  "language_info": {
   "codemirror_mode": {
    "name": "ipython",
    "version": 3
   },
   "file_extension": ".py",
   "mimetype": "text/x-python",
   "name": "python",
   "nbconvert_exporter": "python",
   "pygments_lexer": "ipython3",
   "version": "3.6.3"
  }
 },
 "nbformat": 4,
 "nbformat_minor": 2
}
