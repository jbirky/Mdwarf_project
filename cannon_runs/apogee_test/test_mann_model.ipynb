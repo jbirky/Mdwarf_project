{
 "cells": [
  {
   "cell_type": "code",
   "execution_count": 1,
   "metadata": {},
   "outputs": [
    {
     "name": "stderr",
     "output_type": "stream",
     "text": [
      "/home/jess/anaconda3/lib/python3.6/site-packages/h5py/__init__.py:36: FutureWarning: Conversion of the second argument of issubdtype from `float` to `np.floating` is deprecated. In future, it will be treated as `np.float64 == np.dtype(float).type`.\n",
      "  from ._conv import register_converters as _register_converters\n"
     ]
    }
   ],
   "source": [
    "%matplotlib inline\n",
    "import numpy as np\n",
    "import pandas as pd\n",
    "import matplotlib.pyplot as plt\n",
    "from matplotlib.ticker import AutoMinorLocator\n",
    "from matplotlib import rc\n",
    "plt.style.use('classic')\n",
    "rc('font', family='serif')\n",
    "rc('figure', facecolor='w')\n",
    "from astropy.io import fits, ascii\n",
    "from astropy.table import Table\n",
    "from collections import OrderedDict\n",
    "from scipy.interpolate import UnivariateSpline\n",
    "import os\n",
    "import math\n",
    "from natsort import natsorted as nsort\n",
    "\n",
    "import TheCannon\n",
    "from TheCannon import apogee, dataset, model\n",
    "import apogee_tools as ap\n",
    "AP_PATH = os.environ['APOGEE_DATA']\n",
    "\n",
    "line_list = ap.lines\n",
    "line_names = line_list.keys()"
   ]
  },
  {
   "cell_type": "code",
   "execution_count": 10,
   "metadata": {
    "collapsed": true
   },
   "outputs": [],
   "source": [
    "allstar = fits.open('/home/jess/Desktop/Research/data/apogee_data/allStar-l31c.2.fits')\n",
    "all_id = allstar[1].data['APOGEE_ID']"
   ]
  },
  {
   "cell_type": "code",
   "execution_count": 19,
   "metadata": {},
   "outputs": [],
   "source": [
    "test_files = os.listdir('/home/jess/Desktop/Research/data/apogee_data/test_sets/gaia_mdwarfs')\n",
    "test_ids = [x.split('aspcapStar-r8-l31c.2-')[1].split('.fits')[0] for x in test_files]\n",
    "\n",
    "#get the index of each test id in the all star file\n",
    "# id_ind = [np.where(all_id == tst)[0][0] for tst in test_ids]"
   ]
  },
  {
   "cell_type": "code",
   "execution_count": null,
   "metadata": {},
   "outputs": [],
   "source": [
    "def testCannonModel(test_ids, **kwargs):\n",
    "    \n",
    "    model = kwargs.get('model', 'mann')\n",
    "    md_coeff = np.load(ap.LIBRARIES + '/cannon/' + model + '_coeff.npy')\n",
    "    \n",
    "    test_flux = []\n",
    "    for ID in test_ids:\n",
    "        sp = ap.Apogee(id=ID, type='aspcap')\n",
    "        test_flux.append(sp.flux)\n",
    "        \n",
    "    ids, wl, tr_flux, tr_ivar = apogee.load_spectra(dfile)\n",
    "    tr_ID = np.array([x.split('2-')[1].split('.fits')[0] for x in ids])\n",
    "    tr_label = ap.loadLabels(rfile, lbl_names=['TEFF', 'FE_H'])\n",
    "\n",
    "    wave = ap.rvShift(wl, rv=-80)\n",
    "    ds = dataset.Dataset(wave, test_ID, test_flux, test_ivar, test_label, test_ID, test_flux, test_ivar)"
   ]
  },
  {
   "cell_type": "code",
   "execution_count": null,
   "metadata": {},
   "outputs": [],
   "source": []
  },
  {
   "cell_type": "code",
   "execution_count": null,
   "metadata": {
    "collapsed": true
   },
   "outputs": [],
   "source": []
  }
 ],
 "metadata": {
  "kernelspec": {
   "display_name": "Python 3",
   "language": "python",
   "name": "python3"
  },
  "language_info": {
   "codemirror_mode": {
    "name": "ipython",
    "version": 3
   },
   "file_extension": ".py",
   "mimetype": "text/x-python",
   "name": "python",
   "nbconvert_exporter": "python",
   "pygments_lexer": "ipython3",
   "version": "3.6.3"
  }
 },
 "nbformat": 4,
 "nbformat_minor": 2
}
